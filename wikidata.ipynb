{
 "cells": [
  {
   "cell_type": "markdown",
   "metadata": {},
   "source": [
    "# Séance Wikidata\n",
    "\n",
    "Vous pouvez normalement éditer les cellules ci-dessous sur Binder.\n",
    "\n",
    "Maj+Entrée, ou les boutons ci-dessus, pour exécuter le code d'une cellule.\n",
    "\n",
    "## Quelques ressources\n",
    "\n",
    "* Sur Wikidata\n",
    "  * Introduction https://www.wikidata.org/wiki/Wikidata:Introduction/fr\n",
    "  * Le guide de SPARQL https://www.wikidata.org/wiki/Wikidata:SPARQL_query_service/queries\n",
    "  * D'autres exemples en SPARQL https://www.wikidata.org/wiki/Wikidata:SPARQL_query_service/queries/examples/fr\n"
   ]
  },
  {
   "cell_type": "code",
   "execution_count": null,
   "metadata": {},
   "outputs": [],
   "source": [
    "import json\n",
    "import re\n",
    "from collections import defaultdict, Counter\n",
    "from pprint import pprint\n",
    "\n",
    "from qwikidata.entity import WikidataItem, WikidataLexeme, WikidataProperty\n",
    "from qwikidata.linked_data_interface import get_entity_dict_from_api\n",
    "from qwikidata.sparql import return_sparql_query_results"
   ]
  },
  {
   "cell_type": "code",
   "execution_count": null,
   "metadata": {},
   "outputs": [],
   "source": [
    "WD_CLASSES = {\n",
    "    'Q': WikidataItem,\n",
    "    'P': WikidataProperty,\n",
    "    'L': WikidataLexeme,\n",
    "}\n",
    "\n",
    "def gen_obj(wid):\n",
    "    \"\"\" Returns an QWD object from its id \"\"\"\n",
    "    return WD_CLASSES[wid[0]](get_entity_dict_from_api(wid))"
   ]
  },
  {
   "cell_type": "code",
   "execution_count": null,
   "metadata": {},
   "outputs": [],
   "source": [
    "# Exemple avec des objets (pas super pratique)\n",
    "# Q193582: Assemblée Nationale\n",
    "Q_AN = gen_obj(\"Q193582\")\n",
    "Q_AN"
   ]
  },
  {
   "cell_type": "code",
   "execution_count": null,
   "metadata": {},
   "outputs": [],
   "source": [
    "# Exemple avec SPARQL (plus flexible !)\n",
    "# P31: instance-of\n",
    "# P279: subclass-of\n",
    "# Q13205267: planète du Système Solaire\n",
    "\n",
    "query_string = \"\"\"\n",
    "SELECT DISTINCT ?planet ?planetLabel\n",
    "WHERE {\n",
    "    ?planet wdt:P31 ?planetProp .\n",
    "    ?planetProp (wdt:P279)* wd:Q13205267 .\n",
    "    \n",
    "   SERVICE wikibase:label {\n",
    "    bd:serviceParam wikibase:language \"fr\" .\n",
    "   }\n",
    "}\n",
    "\"\"\"\n",
    "\n",
    "raw_results = return_sparql_query_results(query_string)"
   ]
  },
  {
   "cell_type": "markdown",
   "metadata": {},
   "source": [
    "Sur Wikidata, les planètes sont rangées dans deux catégories, planètes intérieures et extérieures, qui sont des sous-catégories de « planète ». On demande donc n'importe quel item instance d'une sous-catégorie de planète (une planète, donc)"
   ]
  },
  {
   "cell_type": "code",
   "execution_count": null,
   "metadata": {},
   "outputs": [],
   "source": [
    "# Les résultats tels quels, pas super jolis\n",
    "raw_results"
   ]
  },
  {
   "cell_type": "code",
   "execution_count": null,
   "metadata": {},
   "outputs": [],
   "source": [
    "# La liste, en mieux\n",
    "results = raw_results['results']['bindings']\n",
    "for r in results:\n",
    "    print(r['planetLabel']['value'])"
   ]
  },
  {
   "cell_type": "markdown",
   "metadata": {},
   "source": [
    "# Exercices"
   ]
  },
  {
   "cell_type": "markdown",
   "metadata": {},
   "source": [
    "## (1) Du tri !\n",
    "\n",
    "Reprenez la requête ci-dessus avec un ORDER BY pour retourner les planètes dans l'ordre de leur distance au Soleil (ou leur taille, par exemple)"
   ]
  },
  {
   "cell_type": "code",
   "execution_count": null,
   "metadata": {},
   "outputs": [],
   "source": []
  },
  {
   "cell_type": "markdown",
   "metadata": {},
   "source": [
    "## (2) Des députés !\n",
    "\n",
    "Obtenez la liste des députés français qui siègent actuellement à l'Assemblée Nationale (les 571)."
   ]
  },
  {
   "cell_type": "code",
   "execution_count": null,
   "metadata": {},
   "outputs": [],
   "source": []
  }
 ],
 "metadata": {
  "kernelspec": {
   "display_name": "Python 3",
   "language": "python",
   "name": "python3"
  },
  "language_info": {
   "codemirror_mode": {
    "name": "ipython",
    "version": 3
   },
   "file_extension": ".py",
   "mimetype": "text/x-python",
   "name": "python",
   "nbconvert_exporter": "python",
   "pygments_lexer": "ipython3",
   "version": "3.8.5"
  }
 },
 "nbformat": 4,
 "nbformat_minor": 4
}
