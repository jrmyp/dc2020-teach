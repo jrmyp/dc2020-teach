{
 "cells": [
  {
   "cell_type": "markdown",
   "metadata": {},
   "source": [
    "# Séance Wikidata\n",
    "\n",
    "Vous pouvez normalement éditer les cellules ci-dessous sur Binder.\n",
    "\n",
    "Maj+Entrée, ou les boutons ci-dessus, pour exécuter le code d'une cellule.\n",
    "\n",
    "## Quelques ressources\n",
    "\n",
    "* Sur Wikidata\n",
    "  * Introduction https://www.wikidata.org/wiki/Wikidata:Introduction/fr\n",
    "  * Des tas d'exemples en SPARQL https://www.wikidata.org/wiki/Wikidata:SPARQL_query_service/queries/examples/fr\n",
    "  "
   ]
  },
  {
   "cell_type": "code",
   "execution_count": null,
   "metadata": {},
   "outputs": [],
   "source": [
    "import json\n",
    "import re\n",
    "from collections import defaultdict, Counter\n",
    "from pprint import pprint\n",
    "\n",
    "from qwikidata.entity import WikidataItem, WikidataLexeme, WikidataProperty\n",
    "from qwikidata.linked_data_interface import get_entity_dict_from_api\n",
    "from qwikidata.sparql import return_sparql_query_results"
   ]
  },
  {
   "cell_type": "code",
   "execution_count": null,
   "metadata": {},
   "outputs": [],
   "source": [
    "WD_CLASSES = {\n",
    "    'Q': WikidataItem,\n",
    "    'P': WikidataProperty,\n",
    "    'L': WikidataLexeme,\n",
    "}\n",
    "\n",
    "def gen_obj(wid):\n",
    "    \"\"\" Returns an QWD object from its id \"\"\"\n",
    "    return WD_CLASSES[wid[0]](get_entity_dict_from_api(wid))"
   ]
  },
  {
   "cell_type": "code",
   "execution_count": null,
   "metadata": {},
   "outputs": [],
   "source": [
    "# Assemblée Nationale\n",
    "Q_AN = gen_obj(\"Q193582\")\n",
    "Q_AN"
   ]
  }
 ],
 "metadata": {
  "kernelspec": {
   "display_name": "Python 3",
   "language": "python",
   "name": "python3"
  },
  "language_info": {
   "codemirror_mode": {
    "name": "ipython",
    "version": 3
   },
   "file_extension": ".py",
   "mimetype": "text/x-python",
   "name": "python",
   "nbconvert_exporter": "python",
   "pygments_lexer": "ipython3",
   "version": "3.8.5"
  }
 },
 "nbformat": 4,
 "nbformat_minor": 4
}
